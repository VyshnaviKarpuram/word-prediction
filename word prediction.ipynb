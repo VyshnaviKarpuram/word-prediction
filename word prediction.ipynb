{
  "nbformat": 4,
  "nbformat_minor": 0,
  "metadata": {
    "colab": {
      "provenance": [],
      "authorship_tag": "ABX9TyNuqPHHX8G8UYBaZIKlYpWK",
      "include_colab_link": true
    },
    "kernelspec": {
      "name": "python3",
      "display_name": "Python 3"
    },
    "language_info": {
      "name": "python"
    }
  },
  "cells": [
    {
      "cell_type": "markdown",
      "metadata": {
        "id": "view-in-github",
        "colab_type": "text"
      },
      "source": [
        "<a href=\"https://colab.research.google.com/github/VyshnaviKarpuram/word-prediction/blob/main/word%20prediction.ipynb\" target=\"_parent\"><img src=\"https://colab.research.google.com/assets/colab-badge.svg\" alt=\"Open In Colab\"/></a>"
      ]
    },
    {
      "cell_type": "code",
      "execution_count": null,
      "metadata": {
        "colab": {
          "base_uri": "https://localhost:8080/"
        },
        "id": "CIJFHrmtNdf7",
        "outputId": "dcd7e540-b727-4fbb-e528-c9ad9455c172"
      },
      "outputs": [
        {
          "output_type": "stream",
          "name": "stdout",
          "text": [
            "b'hello world'\n"
          ]
        }
      ],
      "source": [
        "import tensorflow as tf\n",
        "a=tf.constant('hello world')\n",
        "print(a.numpy())"
      ]
    },
    {
      "cell_type": "code",
      "source": [
        "print(a)"
      ],
      "metadata": {
        "colab": {
          "base_uri": "https://localhost:8080/"
        },
        "id": "QVcqYlGZOK4f",
        "outputId": "5db1b4fa-2bdc-42fa-80f1-8966152f5d1d"
      },
      "execution_count": null,
      "outputs": [
        {
          "output_type": "stream",
          "name": "stdout",
          "text": [
            "tf.Tensor(b'hello world', shape=(), dtype=string)\n"
          ]
        }
      ]
    },
    {
      "cell_type": "code",
      "source": [
        "#b=tf.Session()\n",
        "#print(b.run(a))\n",
        "#b.close"
      ],
      "metadata": {
        "id": "fa8SQ2IiPSz_"
      },
      "execution_count": null,
      "outputs": []
    },
    {
      "cell_type": "code",
      "source": [
        "#scalar constant\n",
        "a=tf.constant(42)\n",
        "b=tf.constant(3.23)\n",
        "c=tf.constant(\"hi hello\")\n",
        "print(a)\n",
        "print(a.numpy())\n",
        "print(b)\n",
        "print(b.numpy())\n",
        "print(c)\n",
        "print(c.numpy())"
      ],
      "metadata": {
        "colab": {
          "base_uri": "https://localhost:8080/"
        },
        "id": "88CyQIL6P-Px",
        "outputId": "3d527d37-d307-44ad-8de8-b990bb69eead"
      },
      "execution_count": null,
      "outputs": [
        {
          "output_type": "stream",
          "name": "stdout",
          "text": [
            "tf.Tensor(42, shape=(), dtype=int32)\n",
            "42\n",
            "tf.Tensor(3.23, shape=(), dtype=float32)\n",
            "3.23\n",
            "tf.Tensor(b'hi hello', shape=(), dtype=string)\n",
            "b'hi hello'\n"
          ]
        }
      ]
    },
    {
      "cell_type": "code",
      "source": [
        "#vector contant\n",
        "a=tf.constant([1,2,3,4])\n",
        "b=tf.constant([1.0,2.0,3.0])\n",
        "print(a)\n",
        "print(a.numpy())\n",
        "print(b)\n",
        "print(b.numpy())"
      ],
      "metadata": {
        "colab": {
          "base_uri": "https://localhost:8080/"
        },
        "id": "fn4f1te2QpfL",
        "outputId": "84c58737-8d68-433b-c3e1-a5a25570e3f3"
      },
      "execution_count": null,
      "outputs": [
        {
          "output_type": "stream",
          "name": "stdout",
          "text": [
            "tf.Tensor([1 2 3 4], shape=(4,), dtype=int32)\n",
            "[1 2 3 4]\n",
            "tf.Tensor([1. 2. 3.], shape=(3,), dtype=float32)\n",
            "[1. 2. 3.]\n"
          ]
        }
      ]
    },
    {
      "cell_type": "code",
      "source": [
        "#matrix constant\n",
        "a=tf.constant([[1,2],[3,4]])\n",
        "b=tf.constant([[1.1,2.2],[3.3,4.4]])\n",
        "print(a)\n",
        "print(a.numpy())\n",
        "print(b)\n",
        "print(b.numpy())"
      ],
      "metadata": {
        "colab": {
          "base_uri": "https://localhost:8080/"
        },
        "id": "4LQqeXJ2RBy9",
        "outputId": "2bfff573-50ed-406d-c8a5-5cd8de7063ca"
      },
      "execution_count": null,
      "outputs": [
        {
          "output_type": "stream",
          "name": "stdout",
          "text": [
            "tf.Tensor(\n",
            "[[1 2]\n",
            " [3 4]], shape=(2, 2), dtype=int32)\n",
            "[[1 2]\n",
            " [3 4]]\n",
            "tf.Tensor(\n",
            "[[1.1 2.2]\n",
            " [3.3 4.4]], shape=(2, 2), dtype=float32)\n",
            "[[1.1 2.2]\n",
            " [3.3 4.4]]\n"
          ]
        }
      ]
    },
    {
      "cell_type": "code",
      "source": [
        "#higher dimensional tensor constant\n",
        "a=tf.constant([[[1,2,3],[1,2,3]],[[1,3,2],[4,2,6]]])\n",
        "print(a)\n",
        "print(a.numpy())"
      ],
      "metadata": {
        "colab": {
          "base_uri": "https://localhost:8080/"
        },
        "id": "BXbbN3KDRdT3",
        "outputId": "41cac169-cd4e-49e8-c045-82082981564a"
      },
      "execution_count": null,
      "outputs": [
        {
          "output_type": "stream",
          "name": "stdout",
          "text": [
            "tf.Tensor(\n",
            "[[[1 2 3]\n",
            "  [1 2 3]]\n",
            "\n",
            " [[1 3 2]\n",
            "  [4 2 6]]], shape=(2, 2, 3), dtype=int32)\n",
            "[[[1 2 3]\n",
            "  [1 2 3]]\n",
            "\n",
            " [[1 3 2]\n",
            "  [4 2 6]]]\n"
          ]
        }
      ]
    },
    {
      "cell_type": "code",
      "source": [
        "#boolean constant\n",
        "a=tf.constant(True)\n",
        "print(a)\n",
        "print(a.numpy())"
      ],
      "metadata": {
        "colab": {
          "base_uri": "https://localhost:8080/"
        },
        "id": "6zmK-WiWR1sw",
        "outputId": "ffc0b56b-794b-4481-a941-65842674ff2a"
      },
      "execution_count": null,
      "outputs": [
        {
          "output_type": "stream",
          "name": "stdout",
          "text": [
            "tf.Tensor(True, shape=(), dtype=bool)\n",
            "True\n"
          ]
        }
      ]
    },
    {
      "cell_type": "code",
      "source": [
        "#special constant\n",
        "a=tf.zeros(shape=(2,2))\n",
        "b=tf.ones(shape=(3,3))\n",
        "print(a)\n",
        "print(a.numpy())\n",
        "print(b)\n",
        "print(b.numpy())"
      ],
      "metadata": {
        "colab": {
          "base_uri": "https://localhost:8080/"
        },
        "id": "aSpyShOLR9jY",
        "outputId": "f555bf2e-5e1c-46ea-d730-7a8f71a389bc"
      },
      "execution_count": null,
      "outputs": [
        {
          "output_type": "stream",
          "name": "stdout",
          "text": [
            "tf.Tensor(\n",
            "[[0. 0.]\n",
            " [0. 0.]], shape=(2, 2), dtype=float32)\n",
            "[[0. 0.]\n",
            " [0. 0.]]\n",
            "tf.Tensor(\n",
            "[[1. 1. 1.]\n",
            " [1. 1. 1.]\n",
            " [1. 1. 1.]], shape=(3, 3), dtype=float32)\n",
            "[[1. 1. 1.]\n",
            " [1. 1. 1.]\n",
            " [1. 1. 1.]]\n"
          ]
        }
      ]
    },
    {
      "cell_type": "code",
      "source": [
        "a=tf.constant(5.0)\n",
        "b=tf.constant(3.0)\n",
        "c=tf.multiply(a,b)\n",
        "result=a*b\n",
        "print(result)\n",
        "print(result.numpy())\n",
        "print(c.numpy())"
      ],
      "metadata": {
        "colab": {
          "base_uri": "https://localhost:8080/"
        },
        "id": "6nn32PdDSlnY",
        "outputId": "d0dc0bea-6c2b-46bb-cc89-f0a03b40b062"
      },
      "execution_count": null,
      "outputs": [
        {
          "output_type": "stream",
          "name": "stdout",
          "text": [
            "tf.Tensor(15.0, shape=(), dtype=float32)\n",
            "15.0\n",
            "15.0\n"
          ]
        }
      ]
    },
    {
      "cell_type": "code",
      "source": [
        "a=tf.constant([1,2])\n",
        "x=tf.constant([[1,2],[3,4],[5,6]])\n",
        "y=tf.ones(x.shape[0])\n",
        "print(x.get_shape())\n",
        "print(y.get_shape())\n",
        "print(a.get_shape())"
      ],
      "metadata": {
        "colab": {
          "base_uri": "https://localhost:8080/"
        },
        "id": "yIa8T3ZTTcRV",
        "outputId": "0f149f70-8404-458d-a41f-a94603dd74b8"
      },
      "execution_count": null,
      "outputs": [
        {
          "output_type": "stream",
          "name": "stdout",
          "text": [
            "(3, 2)\n",
            "(3,)\n",
            "(2,)\n"
          ]
        }
      ]
    },
    {
      "cell_type": "code",
      "source": [
        "a=tf.constant(1.52)\n",
        "print(a)\n",
        "print(a.numpy())\n",
        "b=tf.cast(a,dtype=tf.int32)\n",
        "print(b)\n",
        "print(b.numpy())"
      ],
      "metadata": {
        "colab": {
          "base_uri": "https://localhost:8080/"
        },
        "id": "8vh6hr54VC0_",
        "outputId": "5ac1d7fc-0877-47aa-f063-bd4da7db3eb2"
      },
      "execution_count": null,
      "outputs": [
        {
          "output_type": "stream",
          "name": "stdout",
          "text": [
            "tf.Tensor(1.52, shape=(), dtype=float32)\n",
            "1.52\n",
            "tf.Tensor(1, shape=(), dtype=int32)\n",
            "1\n"
          ]
        }
      ]
    },
    {
      "cell_type": "code",
      "source": [
        "a=tf.constant(3.4)\n",
        "b=tf.constant([[1,2],[3,4],[5,6]])\n",
        "c=tf.constant([[1,2],[3,4],[5,6]])\n",
        "print(tf.sqrt(a).numpy())\n",
        "print(tf.add(b,c).numpy())\n",
        "print(tf.multiply(b,c).numpy())"
      ],
      "metadata": {
        "colab": {
          "base_uri": "https://localhost:8080/"
        },
        "id": "pPUX-GgOVqeY",
        "outputId": "59d442dd-c7bb-4425-e7bd-7b933bb8010f"
      },
      "execution_count": null,
      "outputs": [
        {
          "output_type": "stream",
          "name": "stdout",
          "text": [
            "1.8439089\n",
            "[[ 2  4]\n",
            " [ 6  8]\n",
            " [10 12]]\n",
            "[[ 1  4]\n",
            " [ 9 16]\n",
            " [25 36]]\n"
          ]
        }
      ]
    },
    {
      "cell_type": "code",
      "source": [
        "x=tf.constant([[1.,2.,3.],[4.,5.,6.]])\n",
        "print(x)\n",
        "print(x.numpy())\n",
        "print(x.shape)\n",
        "print(x.dtype)"
      ],
      "metadata": {
        "colab": {
          "base_uri": "https://localhost:8080/"
        },
        "id": "uS7kgvcuWbf5",
        "outputId": "3979bfd3-e8dd-4591-99a8-092162de0eb3"
      },
      "execution_count": null,
      "outputs": [
        {
          "output_type": "stream",
          "name": "stdout",
          "text": [
            "tf.Tensor(\n",
            "[[1. 2. 3.]\n",
            " [4. 5. 6.]], shape=(2, 3), dtype=float32)\n",
            "[[1. 2. 3.]\n",
            " [4. 5. 6.]]\n",
            "(2, 3)\n",
            "<dtype: 'float32'>\n"
          ]
        }
      ]
    },
    {
      "cell_type": "code",
      "source": [
        "c=x+x\n",
        "print(c.numpy())\n",
        "d=5*x\n",
        "print(d.numpy())\n",
        "e=tf.transpose(x)\n",
        "print(e.numpy())\n",
        "r=tf.reduce_sum(x)\n",
        "print(r.numpy())"
      ],
      "metadata": {
        "colab": {
          "base_uri": "https://localhost:8080/"
        },
        "id": "5mV0Frj-W2A9",
        "outputId": "ce23e5bf-6de7-4c3d-9df9-c6e899bda081"
      },
      "execution_count": null,
      "outputs": [
        {
          "output_type": "stream",
          "name": "stdout",
          "text": [
            "[[ 2.  4.  6.]\n",
            " [ 8. 10. 12.]]\n",
            "[[ 5. 10. 15.]\n",
            " [20. 25. 30.]]\n",
            "[[1. 4.]\n",
            " [2. 5.]\n",
            " [3. 6.]]\n",
            "21.0\n"
          ]
        }
      ]
    },
    {
      "cell_type": "code",
      "source": [
        "j=x@tf.transpose(x)\n",
        "print(j.numpy())\n",
        "f=tf.concat([x,x,x],axis=0)\n",
        "print(f.numpy())"
      ],
      "metadata": {
        "colab": {
          "base_uri": "https://localhost:8080/"
        },
        "id": "l9acKflpYA9e",
        "outputId": "922aae14-6da5-4af8-8b6a-efe1a7ea60df"
      },
      "execution_count": null,
      "outputs": [
        {
          "output_type": "stream",
          "name": "stdout",
          "text": [
            "[[14. 32.]\n",
            " [32. 77.]]\n",
            "<bound method _EagerTensorBase.numpy of <tf.Tensor: shape=(6, 3), dtype=float32, numpy=\n",
            "array([[1., 2., 3.],\n",
            "       [4., 5., 6.],\n",
            "       [1., 2., 3.],\n",
            "       [4., 5., 6.],\n",
            "       [1., 2., 3.],\n",
            "       [4., 5., 6.]], dtype=float32)>>\n"
          ]
        }
      ]
    },
    {
      "cell_type": "code",
      "source": [
        "a=tf.constant([[1,2],[3,4]])\n",
        "b=tf.constant([[1,2],[3,4]])\n",
        "print(a*b.numpy())\n",
        "print(tf.multiply(a,b).numpy())\n",
        "print(a@b.numpy())"
      ],
      "metadata": {
        "colab": {
          "base_uri": "https://localhost:8080/"
        },
        "id": "M6xMYHBzYoAh",
        "outputId": "a092d38c-7874-4f89-90a5-b3f0442e6624"
      },
      "execution_count": null,
      "outputs": [
        {
          "output_type": "stream",
          "name": "stdout",
          "text": [
            "tf.Tensor(\n",
            "[[ 1  4]\n",
            " [ 9 16]], shape=(2, 2), dtype=int32)\n",
            "[[ 1  4]\n",
            " [ 9 16]]\n",
            "tf.Tensor(\n",
            "[[ 7 10]\n",
            " [15 22]], shape=(2, 2), dtype=int32)\n"
          ]
        }
      ]
    },
    {
      "cell_type": "code",
      "source": [
        "a=tf.nn.softmax(x,axis=-1)\n",
        "print(a.numpy())"
      ],
      "metadata": {
        "colab": {
          "base_uri": "https://localhost:8080/"
        },
        "id": "FGGrRgJsbgH_",
        "outputId": "dc605c8f-b39a-489e-98a0-5ba838782ebe"
      },
      "execution_count": null,
      "outputs": [
        {
          "output_type": "stream",
          "name": "stdout",
          "text": [
            "[[0.09003057 0.24472848 0.66524094]\n",
            " [0.09003057 0.24472848 0.66524094]]\n"
          ]
        }
      ]
    },
    {
      "cell_type": "code",
      "source": [
        "x=tf.constant([[1.0,2.0,3.0]])\n",
        "logits=tf.constant([1.0,2.0,3.0])\n",
        "softmax_probs=tf.nn.softmax(logits,axis=-1)\n",
        "print(softmax_probs)"
      ],
      "metadata": {
        "colab": {
          "base_uri": "https://localhost:8080/"
        },
        "id": "6NqpjMwpbzoC",
        "outputId": "eaa7e637-eda2-4031-b544-2d71a8c2f672"
      },
      "execution_count": null,
      "outputs": [
        {
          "output_type": "stream",
          "name": "stdout",
          "text": [
            "tf.Tensor([0.09003057 0.24472848 0.66524094], shape=(3,), dtype=float32)\n"
          ]
        }
      ]
    },
    {
      "cell_type": "markdown",
      "source": [
        "**FASTAI**"
      ],
      "metadata": {
        "id": "ttRetcjaiCc0"
      }
    },
    {
      "cell_type": "code",
      "source": [
        "from fastai.vision.all import *"
      ],
      "metadata": {
        "id": "g8f682Nxhtb4"
      },
      "execution_count": null,
      "outputs": []
    },
    {
      "cell_type": "code",
      "source": [
        "path=untar_data(URLs.MNIST_SAMPLE)"
      ],
      "metadata": {
        "colab": {
          "base_uri": "https://localhost:8080/",
          "height": 37
        },
        "id": "8e0jFOHch6jM",
        "outputId": "4bf04b16-5af9-41ba-8d81-bf9b90c09394"
      },
      "execution_count": null,
      "outputs": [
        {
          "output_type": "display_data",
          "data": {
            "text/plain": [
              "<IPython.core.display.HTML object>"
            ],
            "text/html": [
              "\n",
              "<style>\n",
              "    /* Turns off some styling */\n",
              "    progress {\n",
              "        /* gets rid of default border in Firefox and Opera. */\n",
              "        border: none;\n",
              "        /* Needs to be in here for Safari polyfill so background images work as expected. */\n",
              "        background-size: auto;\n",
              "    }\n",
              "    progress:not([value]), progress:not([value])::-webkit-progress-bar {\n",
              "        background: repeating-linear-gradient(45deg, #7e7e7e, #7e7e7e 10px, #5c5c5c 10px, #5c5c5c 20px);\n",
              "    }\n",
              "    .progress-bar-interrupted, .progress-bar-interrupted::-webkit-progress-bar {\n",
              "        background: #F44336;\n",
              "    }\n",
              "</style>\n"
            ]
          },
          "metadata": {}
        },
        {
          "output_type": "display_data",
          "data": {
            "text/plain": [
              "<IPython.core.display.HTML object>"
            ],
            "text/html": [
              "\n",
              "    <div>\n",
              "      <progress value='3219456' class='' max='3214948' style='width:300px; height:20px; vertical-align: middle;'></progress>\n",
              "      100.14% [3219456/3214948 00:00&lt;00:00]\n",
              "    </div>\n",
              "    "
            ]
          },
          "metadata": {}
        }
      ]
    },
    {
      "cell_type": "markdown",
      "source": [
        "## **RNN**"
      ],
      "metadata": {
        "id": "fngyGHGG09tu"
      }
    },
    {
      "cell_type": "markdown",
      "source": [
        "## **TASK-1**"
      ],
      "metadata": {
        "id": "wu2vfTdPJF-G"
      }
    },
    {
      "cell_type": "code",
      "source": [
        "import numpy as np\n",
        "from keras.models import Sequential\n",
        "from keras.layers import SimpleRNN, Dense, Embedding\n",
        "from keras.preprocessing.text import Tokenizer\n",
        "from keras.preprocessing.sequence import pad_sequences\n",
        "from keras.utils import to_categorical\n",
        "\n",
        "\n",
        "# Generating some example sequential data\n",
        "sentences = ['I love learning','I love python programming','I hate you',\n",
        "             'Recurrent Neural Networks are powerful']\n",
        "\n",
        "# Tokenizing the words\n",
        "tokenizer = Tokenizer()\n",
        "tokenizer.fit_on_texts(sentences)\n",
        "total_words = len(tokenizer.word_index) + 1\n",
        "\n",
        "# Creating input sequences and their corresponding next words\n",
        "input_sequences = []\n",
        "for sentence in sentences:\n",
        "    tokenized_sentence = tokenizer.texts_to_sequences([sentence])[0]\n",
        "    for i in range(1, len(tokenized_sentence)):\n",
        "        n_gram_sequence = tokenized_sentence[:i+1]\n",
        "        input_sequences.append(n_gram_sequence)\n",
        "\n",
        "# Padding sequences for consistent input size\n",
        "max_sequence_length = max([len(seq) for seq in input_sequences])\n",
        "input_sequences = pad_sequences(input_sequences, maxlen=max_sequence_length, padding='pre')\n",
        "\n",
        "# Creating input and output data\n",
        "X, y = input_sequences[:, :-1], input_sequences[:, -1]\n",
        "y = to_categorical(y, num_classes=total_words)\n",
        "\n",
        "# Building a simple RNN model\n",
        "model = Sequential()\n",
        "model.add(Embedding(input_dim=total_words, output_dim=50, input_length=max_sequence_length-1))\n",
        "model.add(SimpleRNN(100, return_sequences=True))\n",
        "model.add(SimpleRNN(100))\n",
        "model.add(Dense(total_words, activation='softmax'))\n",
        "\n",
        "# Compiling the model\n",
        "model.compile(optimizer='adam', loss='categorical_crossentropy', metrics=['accuracy'])\n",
        "\n",
        "# Training the model\n",
        "model.fit(X, y, epochs=50, verbose=2)\n",
        "\n",
        "\n"
      ],
      "metadata": {
        "colab": {
          "base_uri": "https://localhost:8080/"
        },
        "id": "zSiBOnFxjPyL",
        "outputId": "37aa344b-e9d6-40de-996e-26f7e218ba0f"
      },
      "execution_count": null,
      "outputs": [
        {
          "output_type": "stream",
          "name": "stdout",
          "text": [
            "Epoch 1/50\n",
            "1/1 - 3s - loss: 2.5737 - accuracy: 0.0909 - 3s/epoch - 3s/step\n",
            "Epoch 2/50\n",
            "1/1 - 0s - loss: 2.4823 - accuracy: 0.1818 - 17ms/epoch - 17ms/step\n",
            "Epoch 3/50\n",
            "1/1 - 0s - loss: 2.3941 - accuracy: 0.3636 - 13ms/epoch - 13ms/step\n",
            "Epoch 4/50\n",
            "1/1 - 0s - loss: 2.3064 - accuracy: 0.3636 - 12ms/epoch - 12ms/step\n",
            "Epoch 5/50\n",
            "1/1 - 0s - loss: 2.2176 - accuracy: 0.3636 - 12ms/epoch - 12ms/step\n",
            "Epoch 6/50\n",
            "1/1 - 0s - loss: 2.1280 - accuracy: 0.3636 - 12ms/epoch - 12ms/step\n",
            "Epoch 7/50\n",
            "1/1 - 0s - loss: 2.0387 - accuracy: 0.3636 - 12ms/epoch - 12ms/step\n",
            "Epoch 8/50\n",
            "1/1 - 0s - loss: 1.9513 - accuracy: 0.3636 - 14ms/epoch - 14ms/step\n",
            "Epoch 9/50\n",
            "1/1 - 0s - loss: 1.8658 - accuracy: 0.4545 - 16ms/epoch - 16ms/step\n",
            "Epoch 10/50\n",
            "1/1 - 0s - loss: 1.7807 - accuracy: 0.4545 - 15ms/epoch - 15ms/step\n",
            "Epoch 11/50\n",
            "1/1 - 0s - loss: 1.6953 - accuracy: 0.4545 - 13ms/epoch - 13ms/step\n",
            "Epoch 12/50\n",
            "1/1 - 0s - loss: 1.6118 - accuracy: 0.4545 - 15ms/epoch - 15ms/step\n",
            "Epoch 13/50\n",
            "1/1 - 0s - loss: 1.5337 - accuracy: 0.4545 - 13ms/epoch - 13ms/step\n",
            "Epoch 14/50\n",
            "1/1 - 0s - loss: 1.4630 - accuracy: 0.6364 - 15ms/epoch - 15ms/step\n",
            "Epoch 15/50\n",
            "1/1 - 0s - loss: 1.3978 - accuracy: 0.6364 - 13ms/epoch - 13ms/step\n",
            "Epoch 16/50\n",
            "1/1 - 0s - loss: 1.3351 - accuracy: 0.6364 - 15ms/epoch - 15ms/step\n",
            "Epoch 17/50\n",
            "1/1 - 0s - loss: 1.2734 - accuracy: 0.6364 - 14ms/epoch - 14ms/step\n",
            "Epoch 18/50\n",
            "1/1 - 0s - loss: 1.2135 - accuracy: 0.6364 - 14ms/epoch - 14ms/step\n",
            "Epoch 19/50\n",
            "1/1 - 0s - loss: 1.1567 - accuracy: 0.6364 - 14ms/epoch - 14ms/step\n",
            "Epoch 20/50\n",
            "1/1 - 0s - loss: 1.1034 - accuracy: 0.6364 - 14ms/epoch - 14ms/step\n",
            "Epoch 21/50\n",
            "1/1 - 0s - loss: 1.0525 - accuracy: 0.7273 - 14ms/epoch - 14ms/step\n",
            "Epoch 22/50\n",
            "1/1 - 0s - loss: 1.0036 - accuracy: 0.7273 - 12ms/epoch - 12ms/step\n",
            "Epoch 23/50\n",
            "1/1 - 0s - loss: 0.9574 - accuracy: 0.7273 - 12ms/epoch - 12ms/step\n",
            "Epoch 24/50\n",
            "1/1 - 0s - loss: 0.9143 - accuracy: 0.7273 - 12ms/epoch - 12ms/step\n",
            "Epoch 25/50\n",
            "1/1 - 0s - loss: 0.8735 - accuracy: 0.7273 - 14ms/epoch - 14ms/step\n",
            "Epoch 26/50\n",
            "1/1 - 0s - loss: 0.8350 - accuracy: 0.7273 - 19ms/epoch - 19ms/step\n",
            "Epoch 27/50\n",
            "1/1 - 0s - loss: 0.7992 - accuracy: 0.7273 - 12ms/epoch - 12ms/step\n",
            "Epoch 28/50\n",
            "1/1 - 0s - loss: 0.7663 - accuracy: 0.7273 - 11ms/epoch - 11ms/step\n",
            "Epoch 29/50\n",
            "1/1 - 0s - loss: 0.7359 - accuracy: 0.8182 - 12ms/epoch - 12ms/step\n",
            "Epoch 30/50\n",
            "1/1 - 0s - loss: 0.7077 - accuracy: 0.8182 - 12ms/epoch - 12ms/step\n",
            "Epoch 31/50\n",
            "1/1 - 0s - loss: 0.6815 - accuracy: 0.8182 - 13ms/epoch - 13ms/step\n",
            "Epoch 32/50\n",
            "1/1 - 0s - loss: 0.6575 - accuracy: 0.8182 - 11ms/epoch - 11ms/step\n",
            "Epoch 33/50\n",
            "1/1 - 0s - loss: 0.6355 - accuracy: 0.8182 - 18ms/epoch - 18ms/step\n",
            "Epoch 34/50\n",
            "1/1 - 0s - loss: 0.6157 - accuracy: 0.8182 - 14ms/epoch - 14ms/step\n",
            "Epoch 35/50\n",
            "1/1 - 0s - loss: 0.5974 - accuracy: 0.8182 - 12ms/epoch - 12ms/step\n",
            "Epoch 36/50\n",
            "1/1 - 0s - loss: 0.5802 - accuracy: 0.8182 - 13ms/epoch - 13ms/step\n",
            "Epoch 37/50\n",
            "1/1 - 0s - loss: 0.5640 - accuracy: 0.8182 - 11ms/epoch - 11ms/step\n",
            "Epoch 38/50\n",
            "1/1 - 0s - loss: 0.5489 - accuracy: 0.8182 - 10ms/epoch - 10ms/step\n",
            "Epoch 39/50\n",
            "1/1 - 0s - loss: 0.5348 - accuracy: 0.8182 - 16ms/epoch - 16ms/step\n",
            "Epoch 40/50\n",
            "1/1 - 0s - loss: 0.5212 - accuracy: 0.8182 - 11ms/epoch - 11ms/step\n",
            "Epoch 41/50\n",
            "1/1 - 0s - loss: 0.5082 - accuracy: 0.8182 - 11ms/epoch - 11ms/step\n",
            "Epoch 42/50\n",
            "1/1 - 0s - loss: 0.4958 - accuracy: 0.8182 - 13ms/epoch - 13ms/step\n",
            "Epoch 43/50\n",
            "1/1 - 0s - loss: 0.4841 - accuracy: 0.8182 - 11ms/epoch - 11ms/step\n",
            "Epoch 44/50\n",
            "1/1 - 0s - loss: 0.4727 - accuracy: 0.8182 - 11ms/epoch - 11ms/step\n",
            "Epoch 45/50\n",
            "1/1 - 0s - loss: 0.4617 - accuracy: 0.8182 - 12ms/epoch - 12ms/step\n",
            "Epoch 46/50\n",
            "1/1 - 0s - loss: 0.4513 - accuracy: 0.8182 - 12ms/epoch - 12ms/step\n",
            "Epoch 47/50\n",
            "1/1 - 0s - loss: 0.4413 - accuracy: 0.8182 - 10ms/epoch - 10ms/step\n",
            "Epoch 48/50\n",
            "1/1 - 0s - loss: 0.4317 - accuracy: 0.8182 - 9ms/epoch - 9ms/step\n",
            "Epoch 49/50\n",
            "1/1 - 0s - loss: 0.4226 - accuracy: 0.8182 - 9ms/epoch - 9ms/step\n",
            "Epoch 50/50\n",
            "1/1 - 0s - loss: 0.4138 - accuracy: 0.8182 - 10ms/epoch - 10ms/step\n"
          ]
        },
        {
          "output_type": "execute_result",
          "data": {
            "text/plain": [
              "<keras.src.callbacks.History at 0x7eef4439b2b0>"
            ]
          },
          "metadata": {},
          "execution_count": 1
        }
      ]
    },
    {
      "cell_type": "code",
      "source": [
        "# Generating text using the trained model\n",
        "seed_text = \"Recurrent neural network\"\n",
        "next_words = 3\n",
        "for _ in range(next_words):\n",
        "    tokenized_seed = tokenizer.texts_to_sequences([seed_text])[0]\n",
        "    tokenized_seed = pad_sequences([tokenized_seed], maxlen=max_sequence_length-1, padding='pre')\n",
        "    predicted_word_index = np.argmax(model.predict(tokenized_seed), axis=-1)\n",
        "    predicted_word = tokenizer.index_word[predicted_word_index[0]]\n",
        "    seed_text += \" \" + predicted_word\n",
        "\n",
        "print(seed_text)"
      ],
      "metadata": {
        "colab": {
          "base_uri": "https://localhost:8080/"
        },
        "id": "0wthzwnC1CIx",
        "outputId": "e45c4c12-2bd4-4519-e07e-7d164ec814bb"
      },
      "execution_count": null,
      "outputs": [
        {
          "output_type": "stream",
          "name": "stdout",
          "text": [
            "1/1 [==============================] - 0s 20ms/step\n",
            "1/1 [==============================] - 0s 19ms/step\n",
            "1/1 [==============================] - 0s 21ms/step\n",
            "Recurrent neural network networks are powerful\n"
          ]
        }
      ]
    },
    {
      "cell_type": "markdown",
      "source": [
        "## **TASK-2**"
      ],
      "metadata": {
        "id": "ZqcL9_sWJA8F"
      }
    },
    {
      "cell_type": "code",
      "source": [
        "import pandas as pd\n",
        "import numpy as np\n",
        "from keras.models import Sequential\n",
        "from keras.layers import SimpleRNN, Dense, Embedding\n",
        "from keras.preprocessing.text import Tokenizer\n",
        "from keras.preprocessing.sequence import pad_sequences\n",
        "from keras.utils import to_categorical"
      ],
      "metadata": {
        "id": "mjOGp62uGjn6"
      },
      "execution_count": null,
      "outputs": []
    },
    {
      "cell_type": "code",
      "source": [
        "d = pd.read_csv(\"/content/hi.txt\",sep=\",\")"
      ],
      "metadata": {
        "id": "BKKQcT1pGme5"
      },
      "execution_count": null,
      "outputs": []
    },
    {
      "cell_type": "code",
      "source": [
        "d"
      ],
      "metadata": {
        "colab": {
          "base_uri": "https://localhost:8080/",
          "height": 89
        },
        "id": "2eYF7HMJG1gO",
        "outputId": "baecfdd8-7f90-4723-dbce-bceb4790f48a"
      },
      "execution_count": null,
      "outputs": [
        {
          "output_type": "execute_result",
          "data": {
            "text/plain": [
              "Empty DataFrame\n",
              "Columns: [hi , how are you?, where are you from?, my name is vyshu, i am studing]\n",
              "Index: []"
            ],
            "text/html": [
              "\n",
              "  <div id=\"df-ec0a0986-a312-4eba-a29f-acd1e16d75c0\" class=\"colab-df-container\">\n",
              "    <div>\n",
              "<style scoped>\n",
              "    .dataframe tbody tr th:only-of-type {\n",
              "        vertical-align: middle;\n",
              "    }\n",
              "\n",
              "    .dataframe tbody tr th {\n",
              "        vertical-align: top;\n",
              "    }\n",
              "\n",
              "    .dataframe thead th {\n",
              "        text-align: right;\n",
              "    }\n",
              "</style>\n",
              "<table border=\"1\" class=\"dataframe\">\n",
              "  <thead>\n",
              "    <tr style=\"text-align: right;\">\n",
              "      <th></th>\n",
              "      <th>hi</th>\n",
              "      <th>how are you?</th>\n",
              "      <th>where are you from?</th>\n",
              "      <th>my name is vyshu</th>\n",
              "      <th>i am studing</th>\n",
              "    </tr>\n",
              "  </thead>\n",
              "  <tbody>\n",
              "  </tbody>\n",
              "</table>\n",
              "</div>\n",
              "    <div class=\"colab-df-buttons\">\n",
              "\n",
              "  <div class=\"colab-df-container\">\n",
              "    <button class=\"colab-df-convert\" onclick=\"convertToInteractive('df-ec0a0986-a312-4eba-a29f-acd1e16d75c0')\"\n",
              "            title=\"Convert this dataframe to an interactive table.\"\n",
              "            style=\"display:none;\">\n",
              "\n",
              "  <svg xmlns=\"http://www.w3.org/2000/svg\" height=\"24px\" viewBox=\"0 -960 960 960\">\n",
              "    <path d=\"M120-120v-720h720v720H120Zm60-500h600v-160H180v160Zm220 220h160v-160H400v160Zm0 220h160v-160H400v160ZM180-400h160v-160H180v160Zm440 0h160v-160H620v160ZM180-180h160v-160H180v160Zm440 0h160v-160H620v160Z\"/>\n",
              "  </svg>\n",
              "    </button>\n",
              "\n",
              "  <style>\n",
              "    .colab-df-container {\n",
              "      display:flex;\n",
              "      gap: 12px;\n",
              "    }\n",
              "\n",
              "    .colab-df-convert {\n",
              "      background-color: #E8F0FE;\n",
              "      border: none;\n",
              "      border-radius: 50%;\n",
              "      cursor: pointer;\n",
              "      display: none;\n",
              "      fill: #1967D2;\n",
              "      height: 32px;\n",
              "      padding: 0 0 0 0;\n",
              "      width: 32px;\n",
              "    }\n",
              "\n",
              "    .colab-df-convert:hover {\n",
              "      background-color: #E2EBFA;\n",
              "      box-shadow: 0px 1px 2px rgba(60, 64, 67, 0.3), 0px 1px 3px 1px rgba(60, 64, 67, 0.15);\n",
              "      fill: #174EA6;\n",
              "    }\n",
              "\n",
              "    .colab-df-buttons div {\n",
              "      margin-bottom: 4px;\n",
              "    }\n",
              "\n",
              "    [theme=dark] .colab-df-convert {\n",
              "      background-color: #3B4455;\n",
              "      fill: #D2E3FC;\n",
              "    }\n",
              "\n",
              "    [theme=dark] .colab-df-convert:hover {\n",
              "      background-color: #434B5C;\n",
              "      box-shadow: 0px 1px 3px 1px rgba(0, 0, 0, 0.15);\n",
              "      filter: drop-shadow(0px 1px 2px rgba(0, 0, 0, 0.3));\n",
              "      fill: #FFFFFF;\n",
              "    }\n",
              "  </style>\n",
              "\n",
              "    <script>\n",
              "      const buttonEl =\n",
              "        document.querySelector('#df-ec0a0986-a312-4eba-a29f-acd1e16d75c0 button.colab-df-convert');\n",
              "      buttonEl.style.display =\n",
              "        google.colab.kernel.accessAllowed ? 'block' : 'none';\n",
              "\n",
              "      async function convertToInteractive(key) {\n",
              "        const element = document.querySelector('#df-ec0a0986-a312-4eba-a29f-acd1e16d75c0');\n",
              "        const dataTable =\n",
              "          await google.colab.kernel.invokeFunction('convertToInteractive',\n",
              "                                                    [key], {});\n",
              "        if (!dataTable) return;\n",
              "\n",
              "        const docLinkHtml = 'Like what you see? Visit the ' +\n",
              "          '<a target=\"_blank\" href=https://colab.research.google.com/notebooks/data_table.ipynb>data table notebook</a>'\n",
              "          + ' to learn more about interactive tables.';\n",
              "        element.innerHTML = '';\n",
              "        dataTable['output_type'] = 'display_data';\n",
              "        await google.colab.output.renderOutput(dataTable, element);\n",
              "        const docLink = document.createElement('div');\n",
              "        docLink.innerHTML = docLinkHtml;\n",
              "        element.appendChild(docLink);\n",
              "      }\n",
              "    </script>\n",
              "  </div>\n",
              "\n",
              "\n",
              "  <div id=\"id_348e0281-3fe1-4c40-87e3-b22932c9e3c1\">\n",
              "    <style>\n",
              "      .colab-df-generate {\n",
              "        background-color: #E8F0FE;\n",
              "        border: none;\n",
              "        border-radius: 50%;\n",
              "        cursor: pointer;\n",
              "        display: none;\n",
              "        fill: #1967D2;\n",
              "        height: 32px;\n",
              "        padding: 0 0 0 0;\n",
              "        width: 32px;\n",
              "      }\n",
              "\n",
              "      .colab-df-generate:hover {\n",
              "        background-color: #E2EBFA;\n",
              "        box-shadow: 0px 1px 2px rgba(60, 64, 67, 0.3), 0px 1px 3px 1px rgba(60, 64, 67, 0.15);\n",
              "        fill: #174EA6;\n",
              "      }\n",
              "\n",
              "      [theme=dark] .colab-df-generate {\n",
              "        background-color: #3B4455;\n",
              "        fill: #D2E3FC;\n",
              "      }\n",
              "\n",
              "      [theme=dark] .colab-df-generate:hover {\n",
              "        background-color: #434B5C;\n",
              "        box-shadow: 0px 1px 3px 1px rgba(0, 0, 0, 0.15);\n",
              "        filter: drop-shadow(0px 1px 2px rgba(0, 0, 0, 0.3));\n",
              "        fill: #FFFFFF;\n",
              "      }\n",
              "    </style>\n",
              "    <button class=\"colab-df-generate\" onclick=\"generateWithVariable('d')\"\n",
              "            title=\"Generate code using this dataframe.\"\n",
              "            style=\"display:none;\">\n",
              "\n",
              "  <svg xmlns=\"http://www.w3.org/2000/svg\" height=\"24px\"viewBox=\"0 0 24 24\"\n",
              "       width=\"24px\">\n",
              "    <path d=\"M7,19H8.4L18.45,9,17,7.55,7,17.6ZM5,21V16.75L18.45,3.32a2,2,0,0,1,2.83,0l1.4,1.43a1.91,1.91,0,0,1,.58,1.4,1.91,1.91,0,0,1-.58,1.4L9.25,21ZM18.45,9,17,7.55Zm-12,3A5.31,5.31,0,0,0,4.9,8.1,5.31,5.31,0,0,0,1,6.5,5.31,5.31,0,0,0,4.9,4.9,5.31,5.31,0,0,0,6.5,1,5.31,5.31,0,0,0,8.1,4.9,5.31,5.31,0,0,0,12,6.5,5.46,5.46,0,0,0,6.5,12Z\"/>\n",
              "  </svg>\n",
              "    </button>\n",
              "    <script>\n",
              "      (() => {\n",
              "      const buttonEl =\n",
              "        document.querySelector('#id_348e0281-3fe1-4c40-87e3-b22932c9e3c1 button.colab-df-generate');\n",
              "      buttonEl.style.display =\n",
              "        google.colab.kernel.accessAllowed ? 'block' : 'none';\n",
              "\n",
              "      buttonEl.onclick = () => {\n",
              "        google.colab.notebook.generateWithVariable('d');\n",
              "      }\n",
              "      })();\n",
              "    </script>\n",
              "  </div>\n",
              "\n",
              "    </div>\n",
              "  </div>\n"
            ]
          },
          "metadata": {},
          "execution_count": 7
        }
      ]
    },
    {
      "cell_type": "code",
      "source": [
        "# Tokenizing the words\n",
        "tokenizer = Tokenizer()\n",
        "tokenizer.fit_on_texts(d)\n",
        "total_words = len(tokenizer.word_index) + 1\n"
      ],
      "metadata": {
        "id": "I37HZW2hG3WV"
      },
      "execution_count": null,
      "outputs": []
    },
    {
      "cell_type": "code",
      "source": [
        "print(total_words)"
      ],
      "metadata": {
        "colab": {
          "base_uri": "https://localhost:8080/"
        },
        "id": "2VCY8d1qG--F",
        "outputId": "4f79945a-bcc2-457c-ebd4-8133c12cc39e"
      },
      "execution_count": null,
      "outputs": [
        {
          "output_type": "stream",
          "name": "stdout",
          "text": [
            "14\n"
          ]
        }
      ]
    },
    {
      "cell_type": "code",
      "source": [
        "input_sequences = []\n",
        "for word in d:\n",
        "    tokenized_sentence = tokenizer.texts_to_sequences([word])[0]\n",
        "    for i in range(1, len(tokenized_sentence)):\n",
        "        n_gram_sequence = tokenized_sentence[:i+1]\n",
        "        input_sequences.append(n_gram_sequence)\n"
      ],
      "metadata": {
        "id": "SHosmfKkHDrK"
      },
      "execution_count": null,
      "outputs": []
    },
    {
      "cell_type": "code",
      "source": [
        "print(input_sequences)"
      ],
      "metadata": {
        "colab": {
          "base_uri": "https://localhost:8080/"
        },
        "id": "7tumEvisHHu-",
        "outputId": "312b972a-7b63-4296-ed4d-744fe52e7957"
      },
      "execution_count": null,
      "outputs": [
        {
          "output_type": "stream",
          "name": "stdout",
          "text": [
            "[[4, 1], [4, 1, 2], [5, 1], [5, 1, 2], [5, 1, 2, 6], [7, 8], [7, 8, 9], [7, 8, 9, 10], [11, 12], [11, 12, 13]]\n"
          ]
        }
      ]
    },
    {
      "cell_type": "code",
      "source": [
        "max_sequence_length = max([len(seq) for seq in input_sequences])\n",
        "input_sequences = pad_sequences(input_sequences, maxlen=max_sequence_length, padding='pre')\n"
      ],
      "metadata": {
        "id": "SVZ_GC8aHL22"
      },
      "execution_count": null,
      "outputs": []
    },
    {
      "cell_type": "code",
      "source": [
        "X, y = input_sequences[:, :-1], input_sequences[:, -1]\n",
        "y = to_categorical(y, num_classes=total_words)"
      ],
      "metadata": {
        "id": "E_XJzZyOHU_5"
      },
      "execution_count": null,
      "outputs": []
    },
    {
      "cell_type": "code",
      "source": [
        "model = Sequential()\n",
        "model.add(Embedding(input_dim=total_words, output_dim=50, input_length=max_sequence_length-1))\n",
        "model.add(SimpleRNN(100, return_sequences=True))\n",
        "model.add(SimpleRNN(100))\n",
        "model.add(Dense(total_words, activation='softmax'))\n"
      ],
      "metadata": {
        "id": "S-W0fDkIHY1o"
      },
      "execution_count": null,
      "outputs": []
    },
    {
      "cell_type": "code",
      "source": [
        "# Compiling the model\n",
        "model.compile(optimizer='adam', loss='categorical_crossentropy', metrics=['accuracy'])\n",
        "\n",
        "# Training the model\n",
        "model.fit(X, y, epochs=50, verbose=2)"
      ],
      "metadata": {
        "colab": {
          "base_uri": "https://localhost:8080/"
        },
        "id": "A0N6ZZjkHcut",
        "outputId": "554989d6-b719-4aac-c117-8e69a3eeb85d"
      },
      "execution_count": null,
      "outputs": [
        {
          "output_type": "stream",
          "name": "stdout",
          "text": [
            "Epoch 1/50\n",
            "1/1 - 2s - loss: 2.6752 - accuracy: 0.2000 - 2s/epoch - 2s/step\n",
            "Epoch 2/50\n",
            "1/1 - 0s - loss: 2.5880 - accuracy: 0.2000 - 12ms/epoch - 12ms/step\n",
            "Epoch 3/50\n",
            "1/1 - 0s - loss: 2.5029 - accuracy: 0.3000 - 11ms/epoch - 11ms/step\n",
            "Epoch 4/50\n",
            "1/1 - 0s - loss: 2.4176 - accuracy: 0.5000 - 11ms/epoch - 11ms/step\n",
            "Epoch 5/50\n",
            "1/1 - 0s - loss: 2.3306 - accuracy: 0.6000 - 11ms/epoch - 11ms/step\n",
            "Epoch 6/50\n",
            "1/1 - 0s - loss: 2.2407 - accuracy: 0.6000 - 13ms/epoch - 13ms/step\n",
            "Epoch 7/50\n",
            "1/1 - 0s - loss: 2.1475 - accuracy: 0.6000 - 11ms/epoch - 11ms/step\n",
            "Epoch 8/50\n",
            "1/1 - 0s - loss: 2.0509 - accuracy: 0.6000 - 11ms/epoch - 11ms/step\n",
            "Epoch 9/50\n",
            "1/1 - 0s - loss: 1.9518 - accuracy: 0.6000 - 11ms/epoch - 11ms/step\n",
            "Epoch 10/50\n",
            "1/1 - 0s - loss: 1.8512 - accuracy: 0.6000 - 10ms/epoch - 10ms/step\n",
            "Epoch 11/50\n",
            "1/1 - 0s - loss: 1.7505 - accuracy: 0.6000 - 10ms/epoch - 10ms/step\n",
            "Epoch 12/50\n",
            "1/1 - 0s - loss: 1.6506 - accuracy: 0.6000 - 11ms/epoch - 11ms/step\n",
            "Epoch 13/50\n",
            "1/1 - 0s - loss: 1.5517 - accuracy: 0.6000 - 11ms/epoch - 11ms/step\n",
            "Epoch 14/50\n",
            "1/1 - 0s - loss: 1.4540 - accuracy: 0.6000 - 11ms/epoch - 11ms/step\n",
            "Epoch 15/50\n",
            "1/1 - 0s - loss: 1.3578 - accuracy: 0.6000 - 10ms/epoch - 10ms/step\n",
            "Epoch 16/50\n",
            "1/1 - 0s - loss: 1.2645 - accuracy: 0.6000 - 10ms/epoch - 10ms/step\n",
            "Epoch 17/50\n",
            "1/1 - 0s - loss: 1.1760 - accuracy: 0.7000 - 10ms/epoch - 10ms/step\n",
            "Epoch 18/50\n",
            "1/1 - 0s - loss: 1.0939 - accuracy: 0.7000 - 10ms/epoch - 10ms/step\n",
            "Epoch 19/50\n",
            "1/1 - 0s - loss: 1.0186 - accuracy: 0.8000 - 10ms/epoch - 10ms/step\n",
            "Epoch 20/50\n",
            "1/1 - 0s - loss: 0.9499 - accuracy: 0.8000 - 14ms/epoch - 14ms/step\n",
            "Epoch 21/50\n",
            "1/1 - 0s - loss: 0.8870 - accuracy: 0.8000 - 11ms/epoch - 11ms/step\n",
            "Epoch 22/50\n",
            "1/1 - 0s - loss: 0.8287 - accuracy: 0.8000 - 11ms/epoch - 11ms/step\n",
            "Epoch 23/50\n",
            "1/1 - 0s - loss: 0.7744 - accuracy: 0.8000 - 11ms/epoch - 11ms/step\n",
            "Epoch 24/50\n",
            "1/1 - 0s - loss: 0.7238 - accuracy: 0.8000 - 10ms/epoch - 10ms/step\n",
            "Epoch 25/50\n",
            "1/1 - 0s - loss: 0.6768 - accuracy: 0.8000 - 11ms/epoch - 11ms/step\n",
            "Epoch 26/50\n",
            "1/1 - 0s - loss: 0.6331 - accuracy: 0.8000 - 12ms/epoch - 12ms/step\n",
            "Epoch 27/50\n",
            "1/1 - 0s - loss: 0.5920 - accuracy: 0.8000 - 11ms/epoch - 11ms/step\n",
            "Epoch 28/50\n",
            "1/1 - 0s - loss: 0.5532 - accuracy: 0.8000 - 10ms/epoch - 10ms/step\n",
            "Epoch 29/50\n",
            "1/1 - 0s - loss: 0.5169 - accuracy: 0.8000 - 10ms/epoch - 10ms/step\n",
            "Epoch 30/50\n",
            "1/1 - 0s - loss: 0.4834 - accuracy: 0.8000 - 10ms/epoch - 10ms/step\n",
            "Epoch 31/50\n",
            "1/1 - 0s - loss: 0.4528 - accuracy: 0.8000 - 10ms/epoch - 10ms/step\n",
            "Epoch 32/50\n",
            "1/1 - 0s - loss: 0.4250 - accuracy: 0.9000 - 11ms/epoch - 11ms/step\n",
            "Epoch 33/50\n",
            "1/1 - 0s - loss: 0.3995 - accuracy: 0.9000 - 16ms/epoch - 16ms/step\n",
            "Epoch 34/50\n",
            "1/1 - 0s - loss: 0.3757 - accuracy: 0.9000 - 11ms/epoch - 11ms/step\n",
            "Epoch 35/50\n",
            "1/1 - 0s - loss: 0.3533 - accuracy: 0.9000 - 17ms/epoch - 17ms/step\n",
            "Epoch 36/50\n",
            "1/1 - 0s - loss: 0.3325 - accuracy: 0.9000 - 11ms/epoch - 11ms/step\n",
            "Epoch 37/50\n",
            "1/1 - 0s - loss: 0.3131 - accuracy: 1.0000 - 10ms/epoch - 10ms/step\n",
            "Epoch 38/50\n",
            "1/1 - 0s - loss: 0.2951 - accuracy: 1.0000 - 12ms/epoch - 12ms/step\n",
            "Epoch 39/50\n",
            "1/1 - 0s - loss: 0.2781 - accuracy: 1.0000 - 14ms/epoch - 14ms/step\n",
            "Epoch 40/50\n",
            "1/1 - 0s - loss: 0.2620 - accuracy: 1.0000 - 12ms/epoch - 12ms/step\n",
            "Epoch 41/50\n",
            "1/1 - 0s - loss: 0.2465 - accuracy: 1.0000 - 10ms/epoch - 10ms/step\n",
            "Epoch 42/50\n",
            "1/1 - 0s - loss: 0.2317 - accuracy: 1.0000 - 11ms/epoch - 11ms/step\n",
            "Epoch 43/50\n",
            "1/1 - 0s - loss: 0.2173 - accuracy: 1.0000 - 12ms/epoch - 12ms/step\n",
            "Epoch 44/50\n",
            "1/1 - 0s - loss: 0.2036 - accuracy: 1.0000 - 11ms/epoch - 11ms/step\n",
            "Epoch 45/50\n",
            "1/1 - 0s - loss: 0.1907 - accuracy: 1.0000 - 11ms/epoch - 11ms/step\n",
            "Epoch 46/50\n",
            "1/1 - 0s - loss: 0.1785 - accuracy: 1.0000 - 12ms/epoch - 12ms/step\n",
            "Epoch 47/50\n",
            "1/1 - 0s - loss: 0.1670 - accuracy: 1.0000 - 11ms/epoch - 11ms/step\n",
            "Epoch 48/50\n",
            "1/1 - 0s - loss: 0.1560 - accuracy: 1.0000 - 12ms/epoch - 12ms/step\n",
            "Epoch 49/50\n",
            "1/1 - 0s - loss: 0.1454 - accuracy: 1.0000 - 11ms/epoch - 11ms/step\n",
            "Epoch 50/50\n",
            "1/1 - 0s - loss: 0.1355 - accuracy: 1.0000 - 13ms/epoch - 13ms/step\n"
          ]
        },
        {
          "output_type": "execute_result",
          "data": {
            "text/plain": [
              "<keras.src.callbacks.History at 0x7eef36cd5d20>"
            ]
          },
          "metadata": {},
          "execution_count": 15
        }
      ]
    },
    {
      "cell_type": "code",
      "source": [
        "# Generating text using the trained model\n",
        "seed_text = \"how\"\n",
        "next_words = 2\n",
        "\n",
        "for _ in range(next_words):\n",
        "    tokenized_seed = tokenizer.texts_to_sequences([seed_text])[0]\n",
        "    tokenized_seed = pad_sequences([tokenized_seed], maxlen=max_sequence_length-1, padding='pre')\n",
        "    predicted_word_index = np.argmax(model.predict(tokenized_seed), axis=-1)\n",
        "    predicted_word = tokenizer.index_word[predicted_word_index[0]]\n",
        "    seed_text += \" \" + predicted_word\n",
        "\n",
        "print(seed_text)"
      ],
      "metadata": {
        "colab": {
          "base_uri": "https://localhost:8080/"
        },
        "id": "AH96gqvHHi4f",
        "outputId": "75f326af-fc18-413e-a15c-4cecea66fd7b"
      },
      "execution_count": null,
      "outputs": [
        {
          "output_type": "stream",
          "name": "stdout",
          "text": [
            "1/1 [==============================] - 0s 24ms/step\n",
            "1/1 [==============================] - 0s 30ms/step\n",
            "how are you\n"
          ]
        }
      ]
    }
  ]
}